{
  "nbformat": 4,
  "nbformat_minor": 0,
  "metadata": {
    "colab": {
      "provenance": []
    },
    "kernelspec": {
      "name": "python3",
      "display_name": "Python 3"
    },
    "language_info": {
      "name": "python"
    }
  },
  "cells": [
    {
      "cell_type": "code",
      "execution_count": 1,
      "metadata": {
        "id": "xe77VN5jRbc5"
      },
      "outputs": [],
      "source": [
        "import numpy as np\n",
        "import matplotlib.pyplot as plt\n",
        "from scipy.integrate import solve_ivp\n",
        "import matplotlib.animation as animation\n",
        "import pandas as pd\n"
      ]
    },
    {
      "cell_type": "code",
      "source": [
        "link = (\"/content/244400644_stationnements_cyclables.csv\")\n",
        "df = pd.read_csv(link,sep=';')\n",
        "df.head()"
      ],
      "metadata": {
        "colab": {
          "base_uri": "https://localhost:8080/",
          "height": 481
        },
        "id": "GU8ZIUH9SL-r",
        "outputId": "7a748c83-63b2-46fc-af8c-d6355f1016af"
      },
      "execution_count": 43,
      "outputs": [
        {
          "output_type": "execute_result",
          "data": {
            "text/plain": [
              "                             geo_point_2d  \\\n",
              "0           47.24014209999996, -2.2782823   \n",
              "1  47.275722860270285, -2.205563401614654   \n",
              "2  47.285041587733524, -2.225726700976113   \n",
              "3  47.297832194912985, -2.193971151595806   \n",
              "4   47.28585974973144, -2.195954751533444   \n",
              "\n",
              "                                           Geo Shape  id_local       id_osm  \\\n",
              "0  {\"coordinates\": [-2.2782823, 47.24014209999996...        40  n1655161104   \n",
              "1  {\"coordinates\": [-2.205563401614654, 47.275722...        82  n1655161426   \n",
              "2  {\"coordinates\": [-2.225726700976113, 47.285041...       540          NaN   \n",
              "3  {\"coordinates\": [-2.193971151595806, 47.297832...       544          NaN   \n",
              "4  {\"coordinates\": [-2.195954751533444, 47.285859...       545          NaN   \n",
              "\n",
              "   code_com                            coordonneesxy  capacite  \\\n",
              "0     44184  [-2.2782823000000034,47.24014210000001]         4   \n",
              "1     44184  [-2.2055634016146564,47.27572286027034]         6   \n",
              "2     44184   [-2.225726700976119,47.28504158773357]         2   \n",
              "3     44184   [-2.193971151595806,47.29783219491302]         3   \n",
              "4     44184   [-2.195954751533448,47.28585974973149]        30   \n",
              "\n",
              "   capacite_cargo  type_accroche  mobilier  ... couverture surveillance  \\\n",
              "0             NaN           ROUE    ARCEAU  ...       Faux         Faux   \n",
              "1             NaN  CADRE ET ROUE    ARCEAU  ...       Faux         Faux   \n",
              "2             NaN          CADRE    ARCEAU  ...       Faux         Faux   \n",
              "3             NaN           ROUE    ARCEAU  ...       Faux         Faux   \n",
              "4             NaN           ROUE  RATELIER  ...       Vrai         Faux   \n",
              "\n",
              "  lumiere url_info d_service                                          source  \\\n",
              "0    Faux      NaN       NaN  © les contributeurs d’OpenStreetMap ; © CARENE   \n",
              "1    Faux      NaN       NaN  © les contributeurs d’OpenStreetMap ; © CARENE   \n",
              "2    Faux      NaN       NaN                                        © CARENE   \n",
              "3    Faux      NaN       NaN                                        © CARENE   \n",
              "4    Faux      NaN       NaN                                        © CARENE   \n",
              "\n",
              "  proprietaire  gestionnaire    date_maj  \\\n",
              "0          NaN           NaN  2022-09-19   \n",
              "1          NaN           NaN  2022-09-19   \n",
              "2          NaN           NaN  2022-09-19   \n",
              "3          NaN           NaN  2022-09-19   \n",
              "4          NaN           NaN  2022-09-19   \n",
              "\n",
              "                                        commentaires  \n",
              "0                                                NaN  \n",
              "1                                                NaN  \n",
              "2                                                NaN  \n",
              "3  stationnement amovible, mis à dispo par la lav...  \n",
              "4                      salariés des chantiers navals  \n",
              "\n",
              "[5 rows x 23 columns]"
            ],
            "text/html": [
              "\n",
              "  <div id=\"df-b7bc6f62-bb87-4962-b3dd-073f3a183e8b\" class=\"colab-df-container\">\n",
              "    <div>\n",
              "<style scoped>\n",
              "    .dataframe tbody tr th:only-of-type {\n",
              "        vertical-align: middle;\n",
              "    }\n",
              "\n",
              "    .dataframe tbody tr th {\n",
              "        vertical-align: top;\n",
              "    }\n",
              "\n",
              "    .dataframe thead th {\n",
              "        text-align: right;\n",
              "    }\n",
              "</style>\n",
              "<table border=\"1\" class=\"dataframe\">\n",
              "  <thead>\n",
              "    <tr style=\"text-align: right;\">\n",
              "      <th></th>\n",
              "      <th>geo_point_2d</th>\n",
              "      <th>Geo Shape</th>\n",
              "      <th>id_local</th>\n",
              "      <th>id_osm</th>\n",
              "      <th>code_com</th>\n",
              "      <th>coordonneesxy</th>\n",
              "      <th>capacite</th>\n",
              "      <th>capacite_cargo</th>\n",
              "      <th>type_accroche</th>\n",
              "      <th>mobilier</th>\n",
              "      <th>...</th>\n",
              "      <th>couverture</th>\n",
              "      <th>surveillance</th>\n",
              "      <th>lumiere</th>\n",
              "      <th>url_info</th>\n",
              "      <th>d_service</th>\n",
              "      <th>source</th>\n",
              "      <th>proprietaire</th>\n",
              "      <th>gestionnaire</th>\n",
              "      <th>date_maj</th>\n",
              "      <th>commentaires</th>\n",
              "    </tr>\n",
              "  </thead>\n",
              "  <tbody>\n",
              "    <tr>\n",
              "      <th>0</th>\n",
              "      <td>47.24014209999996, -2.2782823</td>\n",
              "      <td>{\"coordinates\": [-2.2782823, 47.24014209999996...</td>\n",
              "      <td>40</td>\n",
              "      <td>n1655161104</td>\n",
              "      <td>44184</td>\n",
              "      <td>[-2.2782823000000034,47.24014210000001]</td>\n",
              "      <td>4</td>\n",
              "      <td>NaN</td>\n",
              "      <td>ROUE</td>\n",
              "      <td>ARCEAU</td>\n",
              "      <td>...</td>\n",
              "      <td>Faux</td>\n",
              "      <td>Faux</td>\n",
              "      <td>Faux</td>\n",
              "      <td>NaN</td>\n",
              "      <td>NaN</td>\n",
              "      <td>© les contributeurs d’OpenStreetMap ; © CARENE</td>\n",
              "      <td>NaN</td>\n",
              "      <td>NaN</td>\n",
              "      <td>2022-09-19</td>\n",
              "      <td>NaN</td>\n",
              "    </tr>\n",
              "    <tr>\n",
              "      <th>1</th>\n",
              "      <td>47.275722860270285, -2.205563401614654</td>\n",
              "      <td>{\"coordinates\": [-2.205563401614654, 47.275722...</td>\n",
              "      <td>82</td>\n",
              "      <td>n1655161426</td>\n",
              "      <td>44184</td>\n",
              "      <td>[-2.2055634016146564,47.27572286027034]</td>\n",
              "      <td>6</td>\n",
              "      <td>NaN</td>\n",
              "      <td>CADRE ET ROUE</td>\n",
              "      <td>ARCEAU</td>\n",
              "      <td>...</td>\n",
              "      <td>Faux</td>\n",
              "      <td>Faux</td>\n",
              "      <td>Faux</td>\n",
              "      <td>NaN</td>\n",
              "      <td>NaN</td>\n",
              "      <td>© les contributeurs d’OpenStreetMap ; © CARENE</td>\n",
              "      <td>NaN</td>\n",
              "      <td>NaN</td>\n",
              "      <td>2022-09-19</td>\n",
              "      <td>NaN</td>\n",
              "    </tr>\n",
              "    <tr>\n",
              "      <th>2</th>\n",
              "      <td>47.285041587733524, -2.225726700976113</td>\n",
              "      <td>{\"coordinates\": [-2.225726700976113, 47.285041...</td>\n",
              "      <td>540</td>\n",
              "      <td>NaN</td>\n",
              "      <td>44184</td>\n",
              "      <td>[-2.225726700976119,47.28504158773357]</td>\n",
              "      <td>2</td>\n",
              "      <td>NaN</td>\n",
              "      <td>CADRE</td>\n",
              "      <td>ARCEAU</td>\n",
              "      <td>...</td>\n",
              "      <td>Faux</td>\n",
              "      <td>Faux</td>\n",
              "      <td>Faux</td>\n",
              "      <td>NaN</td>\n",
              "      <td>NaN</td>\n",
              "      <td>© CARENE</td>\n",
              "      <td>NaN</td>\n",
              "      <td>NaN</td>\n",
              "      <td>2022-09-19</td>\n",
              "      <td>NaN</td>\n",
              "    </tr>\n",
              "    <tr>\n",
              "      <th>3</th>\n",
              "      <td>47.297832194912985, -2.193971151595806</td>\n",
              "      <td>{\"coordinates\": [-2.193971151595806, 47.297832...</td>\n",
              "      <td>544</td>\n",
              "      <td>NaN</td>\n",
              "      <td>44184</td>\n",
              "      <td>[-2.193971151595806,47.29783219491302]</td>\n",
              "      <td>3</td>\n",
              "      <td>NaN</td>\n",
              "      <td>ROUE</td>\n",
              "      <td>ARCEAU</td>\n",
              "      <td>...</td>\n",
              "      <td>Faux</td>\n",
              "      <td>Faux</td>\n",
              "      <td>Faux</td>\n",
              "      <td>NaN</td>\n",
              "      <td>NaN</td>\n",
              "      <td>© CARENE</td>\n",
              "      <td>NaN</td>\n",
              "      <td>NaN</td>\n",
              "      <td>2022-09-19</td>\n",
              "      <td>stationnement amovible, mis à dispo par la lav...</td>\n",
              "    </tr>\n",
              "    <tr>\n",
              "      <th>4</th>\n",
              "      <td>47.28585974973144, -2.195954751533444</td>\n",
              "      <td>{\"coordinates\": [-2.195954751533444, 47.285859...</td>\n",
              "      <td>545</td>\n",
              "      <td>NaN</td>\n",
              "      <td>44184</td>\n",
              "      <td>[-2.195954751533448,47.28585974973149]</td>\n",
              "      <td>30</td>\n",
              "      <td>NaN</td>\n",
              "      <td>ROUE</td>\n",
              "      <td>RATELIER</td>\n",
              "      <td>...</td>\n",
              "      <td>Vrai</td>\n",
              "      <td>Faux</td>\n",
              "      <td>Faux</td>\n",
              "      <td>NaN</td>\n",
              "      <td>NaN</td>\n",
              "      <td>© CARENE</td>\n",
              "      <td>NaN</td>\n",
              "      <td>NaN</td>\n",
              "      <td>2022-09-19</td>\n",
              "      <td>salariés des chantiers navals</td>\n",
              "    </tr>\n",
              "  </tbody>\n",
              "</table>\n",
              "<p>5 rows × 23 columns</p>\n",
              "</div>\n",
              "    <div class=\"colab-df-buttons\">\n",
              "\n",
              "  <div class=\"colab-df-container\">\n",
              "    <button class=\"colab-df-convert\" onclick=\"convertToInteractive('df-b7bc6f62-bb87-4962-b3dd-073f3a183e8b')\"\n",
              "            title=\"Convert this dataframe to an interactive table.\"\n",
              "            style=\"display:none;\">\n",
              "\n",
              "  <svg xmlns=\"http://www.w3.org/2000/svg\" height=\"24px\" viewBox=\"0 -960 960 960\">\n",
              "    <path d=\"M120-120v-720h720v720H120Zm60-500h600v-160H180v160Zm220 220h160v-160H400v160Zm0 220h160v-160H400v160ZM180-400h160v-160H180v160Zm440 0h160v-160H620v160ZM180-180h160v-160H180v160Zm440 0h160v-160H620v160Z\"/>\n",
              "  </svg>\n",
              "    </button>\n",
              "\n",
              "  <style>\n",
              "    .colab-df-container {\n",
              "      display:flex;\n",
              "      gap: 12px;\n",
              "    }\n",
              "\n",
              "    .colab-df-convert {\n",
              "      background-color: #E8F0FE;\n",
              "      border: none;\n",
              "      border-radius: 50%;\n",
              "      cursor: pointer;\n",
              "      display: none;\n",
              "      fill: #1967D2;\n",
              "      height: 32px;\n",
              "      padding: 0 0 0 0;\n",
              "      width: 32px;\n",
              "    }\n",
              "\n",
              "    .colab-df-convert:hover {\n",
              "      background-color: #E2EBFA;\n",
              "      box-shadow: 0px 1px 2px rgba(60, 64, 67, 0.3), 0px 1px 3px 1px rgba(60, 64, 67, 0.15);\n",
              "      fill: #174EA6;\n",
              "    }\n",
              "\n",
              "    .colab-df-buttons div {\n",
              "      margin-bottom: 4px;\n",
              "    }\n",
              "\n",
              "    [theme=dark] .colab-df-convert {\n",
              "      background-color: #3B4455;\n",
              "      fill: #D2E3FC;\n",
              "    }\n",
              "\n",
              "    [theme=dark] .colab-df-convert:hover {\n",
              "      background-color: #434B5C;\n",
              "      box-shadow: 0px 1px 3px 1px rgba(0, 0, 0, 0.15);\n",
              "      filter: drop-shadow(0px 1px 2px rgba(0, 0, 0, 0.3));\n",
              "      fill: #FFFFFF;\n",
              "    }\n",
              "  </style>\n",
              "\n",
              "    <script>\n",
              "      const buttonEl =\n",
              "        document.querySelector('#df-b7bc6f62-bb87-4962-b3dd-073f3a183e8b button.colab-df-convert');\n",
              "      buttonEl.style.display =\n",
              "        google.colab.kernel.accessAllowed ? 'block' : 'none';\n",
              "\n",
              "      async function convertToInteractive(key) {\n",
              "        const element = document.querySelector('#df-b7bc6f62-bb87-4962-b3dd-073f3a183e8b');\n",
              "        const dataTable =\n",
              "          await google.colab.kernel.invokeFunction('convertToInteractive',\n",
              "                                                    [key], {});\n",
              "        if (!dataTable) return;\n",
              "\n",
              "        const docLinkHtml = 'Like what you see? Visit the ' +\n",
              "          '<a target=\"_blank\" href=https://colab.research.google.com/notebooks/data_table.ipynb>data table notebook</a>'\n",
              "          + ' to learn more about interactive tables.';\n",
              "        element.innerHTML = '';\n",
              "        dataTable['output_type'] = 'display_data';\n",
              "        await google.colab.output.renderOutput(dataTable, element);\n",
              "        const docLink = document.createElement('div');\n",
              "        docLink.innerHTML = docLinkHtml;\n",
              "        element.appendChild(docLink);\n",
              "      }\n",
              "    </script>\n",
              "  </div>\n",
              "\n",
              "\n",
              "<div id=\"df-b71ac0c5-d06e-4ddd-92c7-4ba0e04223d5\">\n",
              "  <button class=\"colab-df-quickchart\" onclick=\"quickchart('df-b71ac0c5-d06e-4ddd-92c7-4ba0e04223d5')\"\n",
              "            title=\"Suggest charts\"\n",
              "            style=\"display:none;\">\n",
              "\n",
              "<svg xmlns=\"http://www.w3.org/2000/svg\" height=\"24px\"viewBox=\"0 0 24 24\"\n",
              "     width=\"24px\">\n",
              "    <g>\n",
              "        <path d=\"M19 3H5c-1.1 0-2 .9-2 2v14c0 1.1.9 2 2 2h14c1.1 0 2-.9 2-2V5c0-1.1-.9-2-2-2zM9 17H7v-7h2v7zm4 0h-2V7h2v10zm4 0h-2v-4h2v4z\"/>\n",
              "    </g>\n",
              "</svg>\n",
              "  </button>\n",
              "\n",
              "<style>\n",
              "  .colab-df-quickchart {\n",
              "      --bg-color: #E8F0FE;\n",
              "      --fill-color: #1967D2;\n",
              "      --hover-bg-color: #E2EBFA;\n",
              "      --hover-fill-color: #174EA6;\n",
              "      --disabled-fill-color: #AAA;\n",
              "      --disabled-bg-color: #DDD;\n",
              "  }\n",
              "\n",
              "  [theme=dark] .colab-df-quickchart {\n",
              "      --bg-color: #3B4455;\n",
              "      --fill-color: #D2E3FC;\n",
              "      --hover-bg-color: #434B5C;\n",
              "      --hover-fill-color: #FFFFFF;\n",
              "      --disabled-bg-color: #3B4455;\n",
              "      --disabled-fill-color: #666;\n",
              "  }\n",
              "\n",
              "  .colab-df-quickchart {\n",
              "    background-color: var(--bg-color);\n",
              "    border: none;\n",
              "    border-radius: 50%;\n",
              "    cursor: pointer;\n",
              "    display: none;\n",
              "    fill: var(--fill-color);\n",
              "    height: 32px;\n",
              "    padding: 0;\n",
              "    width: 32px;\n",
              "  }\n",
              "\n",
              "  .colab-df-quickchart:hover {\n",
              "    background-color: var(--hover-bg-color);\n",
              "    box-shadow: 0 1px 2px rgba(60, 64, 67, 0.3), 0 1px 3px 1px rgba(60, 64, 67, 0.15);\n",
              "    fill: var(--button-hover-fill-color);\n",
              "  }\n",
              "\n",
              "  .colab-df-quickchart-complete:disabled,\n",
              "  .colab-df-quickchart-complete:disabled:hover {\n",
              "    background-color: var(--disabled-bg-color);\n",
              "    fill: var(--disabled-fill-color);\n",
              "    box-shadow: none;\n",
              "  }\n",
              "\n",
              "  .colab-df-spinner {\n",
              "    border: 2px solid var(--fill-color);\n",
              "    border-color: transparent;\n",
              "    border-bottom-color: var(--fill-color);\n",
              "    animation:\n",
              "      spin 1s steps(1) infinite;\n",
              "  }\n",
              "\n",
              "  @keyframes spin {\n",
              "    0% {\n",
              "      border-color: transparent;\n",
              "      border-bottom-color: var(--fill-color);\n",
              "      border-left-color: var(--fill-color);\n",
              "    }\n",
              "    20% {\n",
              "      border-color: transparent;\n",
              "      border-left-color: var(--fill-color);\n",
              "      border-top-color: var(--fill-color);\n",
              "    }\n",
              "    30% {\n",
              "      border-color: transparent;\n",
              "      border-left-color: var(--fill-color);\n",
              "      border-top-color: var(--fill-color);\n",
              "      border-right-color: var(--fill-color);\n",
              "    }\n",
              "    40% {\n",
              "      border-color: transparent;\n",
              "      border-right-color: var(--fill-color);\n",
              "      border-top-color: var(--fill-color);\n",
              "    }\n",
              "    60% {\n",
              "      border-color: transparent;\n",
              "      border-right-color: var(--fill-color);\n",
              "    }\n",
              "    80% {\n",
              "      border-color: transparent;\n",
              "      border-right-color: var(--fill-color);\n",
              "      border-bottom-color: var(--fill-color);\n",
              "    }\n",
              "    90% {\n",
              "      border-color: transparent;\n",
              "      border-bottom-color: var(--fill-color);\n",
              "    }\n",
              "  }\n",
              "</style>\n",
              "\n",
              "  <script>\n",
              "    async function quickchart(key) {\n",
              "      const quickchartButtonEl =\n",
              "        document.querySelector('#' + key + ' button');\n",
              "      quickchartButtonEl.disabled = true;  // To prevent multiple clicks.\n",
              "      quickchartButtonEl.classList.add('colab-df-spinner');\n",
              "      try {\n",
              "        const charts = await google.colab.kernel.invokeFunction(\n",
              "            'suggestCharts', [key], {});\n",
              "      } catch (error) {\n",
              "        console.error('Error during call to suggestCharts:', error);\n",
              "      }\n",
              "      quickchartButtonEl.classList.remove('colab-df-spinner');\n",
              "      quickchartButtonEl.classList.add('colab-df-quickchart-complete');\n",
              "    }\n",
              "    (() => {\n",
              "      let quickchartButtonEl =\n",
              "        document.querySelector('#df-b71ac0c5-d06e-4ddd-92c7-4ba0e04223d5 button');\n",
              "      quickchartButtonEl.style.display =\n",
              "        google.colab.kernel.accessAllowed ? 'block' : 'none';\n",
              "    })();\n",
              "  </script>\n",
              "</div>\n",
              "\n",
              "    </div>\n",
              "  </div>\n"
            ],
            "application/vnd.google.colaboratory.intrinsic+json": {
              "type": "dataframe",
              "variable_name": "df"
            }
          },
          "metadata": {},
          "execution_count": 43
        }
      ]
    },
    {
      "cell_type": "code",
      "source": [
        "df.shape"
      ],
      "metadata": {
        "colab": {
          "base_uri": "https://localhost:8080/",
          "height": 0
        },
        "id": "-xp3PgfHUtS3",
        "outputId": "42831eb6-88c9-4c4f-f0a7-97be109714d8"
      },
      "execution_count": 44,
      "outputs": [
        {
          "output_type": "execute_result",
          "data": {
            "text/plain": [
              "(601, 23)"
            ]
          },
          "metadata": {},
          "execution_count": 44
        }
      ]
    },
    {
      "cell_type": "code",
      "source": [
        "df.isnull().sum()"
      ],
      "metadata": {
        "colab": {
          "base_uri": "https://localhost:8080/",
          "height": 805
        },
        "id": "CVtYCwx_UyUM",
        "outputId": "d0ac2a03-fe8f-40f1-f7b1-a360bd41ed9e"
      },
      "execution_count": 45,
      "outputs": [
        {
          "output_type": "execute_result",
          "data": {
            "text/plain": [
              "geo_point_2d        0\n",
              "Geo Shape           0\n",
              "id_local            0\n",
              "id_osm            162\n",
              "code_com            0\n",
              "coordonneesxy       0\n",
              "capacite            0\n",
              "capacite_cargo    600\n",
              "type_accroche       0\n",
              "mobilier            0\n",
              "acces               0\n",
              "gratuit             0\n",
              "protection          0\n",
              "couverture         12\n",
              "surveillance      311\n",
              "lumiere           311\n",
              "url_info          591\n",
              "d_service         590\n",
              "source              0\n",
              "proprietaire      579\n",
              "gestionnaire      483\n",
              "date_maj            0\n",
              "commentaires      570\n",
              "dtype: int64"
            ],
            "text/html": [
              "<div>\n",
              "<style scoped>\n",
              "    .dataframe tbody tr th:only-of-type {\n",
              "        vertical-align: middle;\n",
              "    }\n",
              "\n",
              "    .dataframe tbody tr th {\n",
              "        vertical-align: top;\n",
              "    }\n",
              "\n",
              "    .dataframe thead th {\n",
              "        text-align: right;\n",
              "    }\n",
              "</style>\n",
              "<table border=\"1\" class=\"dataframe\">\n",
              "  <thead>\n",
              "    <tr style=\"text-align: right;\">\n",
              "      <th></th>\n",
              "      <th>0</th>\n",
              "    </tr>\n",
              "  </thead>\n",
              "  <tbody>\n",
              "    <tr>\n",
              "      <th>geo_point_2d</th>\n",
              "      <td>0</td>\n",
              "    </tr>\n",
              "    <tr>\n",
              "      <th>Geo Shape</th>\n",
              "      <td>0</td>\n",
              "    </tr>\n",
              "    <tr>\n",
              "      <th>id_local</th>\n",
              "      <td>0</td>\n",
              "    </tr>\n",
              "    <tr>\n",
              "      <th>id_osm</th>\n",
              "      <td>162</td>\n",
              "    </tr>\n",
              "    <tr>\n",
              "      <th>code_com</th>\n",
              "      <td>0</td>\n",
              "    </tr>\n",
              "    <tr>\n",
              "      <th>coordonneesxy</th>\n",
              "      <td>0</td>\n",
              "    </tr>\n",
              "    <tr>\n",
              "      <th>capacite</th>\n",
              "      <td>0</td>\n",
              "    </tr>\n",
              "    <tr>\n",
              "      <th>capacite_cargo</th>\n",
              "      <td>600</td>\n",
              "    </tr>\n",
              "    <tr>\n",
              "      <th>type_accroche</th>\n",
              "      <td>0</td>\n",
              "    </tr>\n",
              "    <tr>\n",
              "      <th>mobilier</th>\n",
              "      <td>0</td>\n",
              "    </tr>\n",
              "    <tr>\n",
              "      <th>acces</th>\n",
              "      <td>0</td>\n",
              "    </tr>\n",
              "    <tr>\n",
              "      <th>gratuit</th>\n",
              "      <td>0</td>\n",
              "    </tr>\n",
              "    <tr>\n",
              "      <th>protection</th>\n",
              "      <td>0</td>\n",
              "    </tr>\n",
              "    <tr>\n",
              "      <th>couverture</th>\n",
              "      <td>12</td>\n",
              "    </tr>\n",
              "    <tr>\n",
              "      <th>surveillance</th>\n",
              "      <td>311</td>\n",
              "    </tr>\n",
              "    <tr>\n",
              "      <th>lumiere</th>\n",
              "      <td>311</td>\n",
              "    </tr>\n",
              "    <tr>\n",
              "      <th>url_info</th>\n",
              "      <td>591</td>\n",
              "    </tr>\n",
              "    <tr>\n",
              "      <th>d_service</th>\n",
              "      <td>590</td>\n",
              "    </tr>\n",
              "    <tr>\n",
              "      <th>source</th>\n",
              "      <td>0</td>\n",
              "    </tr>\n",
              "    <tr>\n",
              "      <th>proprietaire</th>\n",
              "      <td>579</td>\n",
              "    </tr>\n",
              "    <tr>\n",
              "      <th>gestionnaire</th>\n",
              "      <td>483</td>\n",
              "    </tr>\n",
              "    <tr>\n",
              "      <th>date_maj</th>\n",
              "      <td>0</td>\n",
              "    </tr>\n",
              "    <tr>\n",
              "      <th>commentaires</th>\n",
              "      <td>570</td>\n",
              "    </tr>\n",
              "  </tbody>\n",
              "</table>\n",
              "</div><br><label><b>dtype:</b> int64</label>"
            ]
          },
          "metadata": {},
          "execution_count": 45
        }
      ]
    },
    {
      "cell_type": "code",
      "source": [
        "df.commentaires"
      ],
      "metadata": {
        "colab": {
          "base_uri": "https://localhost:8080/",
          "height": 458
        },
        "id": "BvB9ikdQVLBX",
        "outputId": "2c1a9a23-7869-4cd8-9c9b-c58a85f906db"
      },
      "execution_count": 46,
      "outputs": [
        {
          "output_type": "execute_result",
          "data": {
            "text/plain": [
              "0                                                    NaN\n",
              "1                                                    NaN\n",
              "2                                                    NaN\n",
              "3      stationnement amovible, mis à dispo par la lav...\n",
              "4                          salariés des chantiers navals\n",
              "                             ...                        \n",
              "596                                                  NaN\n",
              "597                                                  NaN\n",
              "598                                                  NaN\n",
              "599                                                  NaN\n",
              "600                                                  NaN\n",
              "Name: commentaires, Length: 601, dtype: object"
            ],
            "text/html": [
              "<div>\n",
              "<style scoped>\n",
              "    .dataframe tbody tr th:only-of-type {\n",
              "        vertical-align: middle;\n",
              "    }\n",
              "\n",
              "    .dataframe tbody tr th {\n",
              "        vertical-align: top;\n",
              "    }\n",
              "\n",
              "    .dataframe thead th {\n",
              "        text-align: right;\n",
              "    }\n",
              "</style>\n",
              "<table border=\"1\" class=\"dataframe\">\n",
              "  <thead>\n",
              "    <tr style=\"text-align: right;\">\n",
              "      <th></th>\n",
              "      <th>commentaires</th>\n",
              "    </tr>\n",
              "  </thead>\n",
              "  <tbody>\n",
              "    <tr>\n",
              "      <th>0</th>\n",
              "      <td>NaN</td>\n",
              "    </tr>\n",
              "    <tr>\n",
              "      <th>1</th>\n",
              "      <td>NaN</td>\n",
              "    </tr>\n",
              "    <tr>\n",
              "      <th>2</th>\n",
              "      <td>NaN</td>\n",
              "    </tr>\n",
              "    <tr>\n",
              "      <th>3</th>\n",
              "      <td>stationnement amovible, mis à dispo par la lav...</td>\n",
              "    </tr>\n",
              "    <tr>\n",
              "      <th>4</th>\n",
              "      <td>salariés des chantiers navals</td>\n",
              "    </tr>\n",
              "    <tr>\n",
              "      <th>...</th>\n",
              "      <td>...</td>\n",
              "    </tr>\n",
              "    <tr>\n",
              "      <th>596</th>\n",
              "      <td>NaN</td>\n",
              "    </tr>\n",
              "    <tr>\n",
              "      <th>597</th>\n",
              "      <td>NaN</td>\n",
              "    </tr>\n",
              "    <tr>\n",
              "      <th>598</th>\n",
              "      <td>NaN</td>\n",
              "    </tr>\n",
              "    <tr>\n",
              "      <th>599</th>\n",
              "      <td>NaN</td>\n",
              "    </tr>\n",
              "    <tr>\n",
              "      <th>600</th>\n",
              "      <td>NaN</td>\n",
              "    </tr>\n",
              "  </tbody>\n",
              "</table>\n",
              "<p>601 rows × 1 columns</p>\n",
              "</div><br><label><b>dtype:</b> object</label>"
            ]
          },
          "metadata": {},
          "execution_count": 46
        }
      ]
    },
    {
      "cell_type": "code",
      "source": [
        "df.columns"
      ],
      "metadata": {
        "colab": {
          "base_uri": "https://localhost:8080/",
          "height": 0
        },
        "id": "782U0m9S_5tC",
        "outputId": "cd678318-483e-4bae-8961-f3349fd25b6f"
      },
      "execution_count": 9,
      "outputs": [
        {
          "output_type": "execute_result",
          "data": {
            "text/plain": [
              "Index(['geo_point_2d', 'Geo Shape', 'id_local', 'id_osm', 'code_com',\n",
              "       'coordonneesxy', 'capacite', 'capacite_cargo', 'type_accroche',\n",
              "       'mobilier', 'acces', 'gratuit', 'protection', 'couverture',\n",
              "       'surveillance', 'lumiere', 'url_info', 'd_service', 'source',\n",
              "       'proprietaire', 'gestionnaire', 'date_maj', 'commentaires'],\n",
              "      dtype='object')"
            ]
          },
          "metadata": {},
          "execution_count": 9
        }
      ]
    },
    {
      "cell_type": "markdown",
      "source": [
        "### Descriptive Analysis"
      ],
      "metadata": {
        "id": "yiC2MmjXHLmA"
      }
    },
    {
      "cell_type": "code",
      "source": [
        "df.describe()"
      ],
      "metadata": {
        "colab": {
          "base_uri": "https://localhost:8080/",
          "height": 300
        },
        "id": "csZl6fFZHQZj",
        "outputId": "30109b43-c10f-470b-97fe-f4bdb34313b0"
      },
      "execution_count": 10,
      "outputs": [
        {
          "output_type": "execute_result",
          "data": {
            "text/plain": [
              "         id_local      code_com    capacite  capacite_cargo    d_service\n",
              "count  601.000000    601.000000  601.000000             1.0    11.000000\n",
              "mean   340.860233  44164.159734    7.628952             2.0  2022.818182\n",
              "std    194.827275     38.711296    5.392627             NaN     1.078720\n",
              "min      1.000000  44013.000000    0.000000             2.0  2021.000000\n",
              "25%    173.000000  44132.000000    4.000000             2.0  2022.000000\n",
              "50%    341.000000  44184.000000    6.000000             2.0  2023.000000\n",
              "75%    508.000000  44184.000000   10.000000             2.0  2024.000000\n",
              "max    675.000000  44210.000000   48.000000             2.0  2024.000000"
            ],
            "text/html": [
              "\n",
              "  <div id=\"df-960b208c-ec8e-4ee9-88ef-67694f56d6b8\" class=\"colab-df-container\">\n",
              "    <div>\n",
              "<style scoped>\n",
              "    .dataframe tbody tr th:only-of-type {\n",
              "        vertical-align: middle;\n",
              "    }\n",
              "\n",
              "    .dataframe tbody tr th {\n",
              "        vertical-align: top;\n",
              "    }\n",
              "\n",
              "    .dataframe thead th {\n",
              "        text-align: right;\n",
              "    }\n",
              "</style>\n",
              "<table border=\"1\" class=\"dataframe\">\n",
              "  <thead>\n",
              "    <tr style=\"text-align: right;\">\n",
              "      <th></th>\n",
              "      <th>id_local</th>\n",
              "      <th>code_com</th>\n",
              "      <th>capacite</th>\n",
              "      <th>capacite_cargo</th>\n",
              "      <th>d_service</th>\n",
              "    </tr>\n",
              "  </thead>\n",
              "  <tbody>\n",
              "    <tr>\n",
              "      <th>count</th>\n",
              "      <td>601.000000</td>\n",
              "      <td>601.000000</td>\n",
              "      <td>601.000000</td>\n",
              "      <td>1.0</td>\n",
              "      <td>11.000000</td>\n",
              "    </tr>\n",
              "    <tr>\n",
              "      <th>mean</th>\n",
              "      <td>340.860233</td>\n",
              "      <td>44164.159734</td>\n",
              "      <td>7.628952</td>\n",
              "      <td>2.0</td>\n",
              "      <td>2022.818182</td>\n",
              "    </tr>\n",
              "    <tr>\n",
              "      <th>std</th>\n",
              "      <td>194.827275</td>\n",
              "      <td>38.711296</td>\n",
              "      <td>5.392627</td>\n",
              "      <td>NaN</td>\n",
              "      <td>1.078720</td>\n",
              "    </tr>\n",
              "    <tr>\n",
              "      <th>min</th>\n",
              "      <td>1.000000</td>\n",
              "      <td>44013.000000</td>\n",
              "      <td>0.000000</td>\n",
              "      <td>2.0</td>\n",
              "      <td>2021.000000</td>\n",
              "    </tr>\n",
              "    <tr>\n",
              "      <th>25%</th>\n",
              "      <td>173.000000</td>\n",
              "      <td>44132.000000</td>\n",
              "      <td>4.000000</td>\n",
              "      <td>2.0</td>\n",
              "      <td>2022.000000</td>\n",
              "    </tr>\n",
              "    <tr>\n",
              "      <th>50%</th>\n",
              "      <td>341.000000</td>\n",
              "      <td>44184.000000</td>\n",
              "      <td>6.000000</td>\n",
              "      <td>2.0</td>\n",
              "      <td>2023.000000</td>\n",
              "    </tr>\n",
              "    <tr>\n",
              "      <th>75%</th>\n",
              "      <td>508.000000</td>\n",
              "      <td>44184.000000</td>\n",
              "      <td>10.000000</td>\n",
              "      <td>2.0</td>\n",
              "      <td>2024.000000</td>\n",
              "    </tr>\n",
              "    <tr>\n",
              "      <th>max</th>\n",
              "      <td>675.000000</td>\n",
              "      <td>44210.000000</td>\n",
              "      <td>48.000000</td>\n",
              "      <td>2.0</td>\n",
              "      <td>2024.000000</td>\n",
              "    </tr>\n",
              "  </tbody>\n",
              "</table>\n",
              "</div>\n",
              "    <div class=\"colab-df-buttons\">\n",
              "\n",
              "  <div class=\"colab-df-container\">\n",
              "    <button class=\"colab-df-convert\" onclick=\"convertToInteractive('df-960b208c-ec8e-4ee9-88ef-67694f56d6b8')\"\n",
              "            title=\"Convert this dataframe to an interactive table.\"\n",
              "            style=\"display:none;\">\n",
              "\n",
              "  <svg xmlns=\"http://www.w3.org/2000/svg\" height=\"24px\" viewBox=\"0 -960 960 960\">\n",
              "    <path d=\"M120-120v-720h720v720H120Zm60-500h600v-160H180v160Zm220 220h160v-160H400v160Zm0 220h160v-160H400v160ZM180-400h160v-160H180v160Zm440 0h160v-160H620v160ZM180-180h160v-160H180v160Zm440 0h160v-160H620v160Z\"/>\n",
              "  </svg>\n",
              "    </button>\n",
              "\n",
              "  <style>\n",
              "    .colab-df-container {\n",
              "      display:flex;\n",
              "      gap: 12px;\n",
              "    }\n",
              "\n",
              "    .colab-df-convert {\n",
              "      background-color: #E8F0FE;\n",
              "      border: none;\n",
              "      border-radius: 50%;\n",
              "      cursor: pointer;\n",
              "      display: none;\n",
              "      fill: #1967D2;\n",
              "      height: 32px;\n",
              "      padding: 0 0 0 0;\n",
              "      width: 32px;\n",
              "    }\n",
              "\n",
              "    .colab-df-convert:hover {\n",
              "      background-color: #E2EBFA;\n",
              "      box-shadow: 0px 1px 2px rgba(60, 64, 67, 0.3), 0px 1px 3px 1px rgba(60, 64, 67, 0.15);\n",
              "      fill: #174EA6;\n",
              "    }\n",
              "\n",
              "    .colab-df-buttons div {\n",
              "      margin-bottom: 4px;\n",
              "    }\n",
              "\n",
              "    [theme=dark] .colab-df-convert {\n",
              "      background-color: #3B4455;\n",
              "      fill: #D2E3FC;\n",
              "    }\n",
              "\n",
              "    [theme=dark] .colab-df-convert:hover {\n",
              "      background-color: #434B5C;\n",
              "      box-shadow: 0px 1px 3px 1px rgba(0, 0, 0, 0.15);\n",
              "      filter: drop-shadow(0px 1px 2px rgba(0, 0, 0, 0.3));\n",
              "      fill: #FFFFFF;\n",
              "    }\n",
              "  </style>\n",
              "\n",
              "    <script>\n",
              "      const buttonEl =\n",
              "        document.querySelector('#df-960b208c-ec8e-4ee9-88ef-67694f56d6b8 button.colab-df-convert');\n",
              "      buttonEl.style.display =\n",
              "        google.colab.kernel.accessAllowed ? 'block' : 'none';\n",
              "\n",
              "      async function convertToInteractive(key) {\n",
              "        const element = document.querySelector('#df-960b208c-ec8e-4ee9-88ef-67694f56d6b8');\n",
              "        const dataTable =\n",
              "          await google.colab.kernel.invokeFunction('convertToInteractive',\n",
              "                                                    [key], {});\n",
              "        if (!dataTable) return;\n",
              "\n",
              "        const docLinkHtml = 'Like what you see? Visit the ' +\n",
              "          '<a target=\"_blank\" href=https://colab.research.google.com/notebooks/data_table.ipynb>data table notebook</a>'\n",
              "          + ' to learn more about interactive tables.';\n",
              "        element.innerHTML = '';\n",
              "        dataTable['output_type'] = 'display_data';\n",
              "        await google.colab.output.renderOutput(dataTable, element);\n",
              "        const docLink = document.createElement('div');\n",
              "        docLink.innerHTML = docLinkHtml;\n",
              "        element.appendChild(docLink);\n",
              "      }\n",
              "    </script>\n",
              "  </div>\n",
              "\n",
              "\n",
              "<div id=\"df-90ddd4ba-26cc-4495-8cd0-a3d4a9346d3c\">\n",
              "  <button class=\"colab-df-quickchart\" onclick=\"quickchart('df-90ddd4ba-26cc-4495-8cd0-a3d4a9346d3c')\"\n",
              "            title=\"Suggest charts\"\n",
              "            style=\"display:none;\">\n",
              "\n",
              "<svg xmlns=\"http://www.w3.org/2000/svg\" height=\"24px\"viewBox=\"0 0 24 24\"\n",
              "     width=\"24px\">\n",
              "    <g>\n",
              "        <path d=\"M19 3H5c-1.1 0-2 .9-2 2v14c0 1.1.9 2 2 2h14c1.1 0 2-.9 2-2V5c0-1.1-.9-2-2-2zM9 17H7v-7h2v7zm4 0h-2V7h2v10zm4 0h-2v-4h2v4z\"/>\n",
              "    </g>\n",
              "</svg>\n",
              "  </button>\n",
              "\n",
              "<style>\n",
              "  .colab-df-quickchart {\n",
              "      --bg-color: #E8F0FE;\n",
              "      --fill-color: #1967D2;\n",
              "      --hover-bg-color: #E2EBFA;\n",
              "      --hover-fill-color: #174EA6;\n",
              "      --disabled-fill-color: #AAA;\n",
              "      --disabled-bg-color: #DDD;\n",
              "  }\n",
              "\n",
              "  [theme=dark] .colab-df-quickchart {\n",
              "      --bg-color: #3B4455;\n",
              "      --fill-color: #D2E3FC;\n",
              "      --hover-bg-color: #434B5C;\n",
              "      --hover-fill-color: #FFFFFF;\n",
              "      --disabled-bg-color: #3B4455;\n",
              "      --disabled-fill-color: #666;\n",
              "  }\n",
              "\n",
              "  .colab-df-quickchart {\n",
              "    background-color: var(--bg-color);\n",
              "    border: none;\n",
              "    border-radius: 50%;\n",
              "    cursor: pointer;\n",
              "    display: none;\n",
              "    fill: var(--fill-color);\n",
              "    height: 32px;\n",
              "    padding: 0;\n",
              "    width: 32px;\n",
              "  }\n",
              "\n",
              "  .colab-df-quickchart:hover {\n",
              "    background-color: var(--hover-bg-color);\n",
              "    box-shadow: 0 1px 2px rgba(60, 64, 67, 0.3), 0 1px 3px 1px rgba(60, 64, 67, 0.15);\n",
              "    fill: var(--button-hover-fill-color);\n",
              "  }\n",
              "\n",
              "  .colab-df-quickchart-complete:disabled,\n",
              "  .colab-df-quickchart-complete:disabled:hover {\n",
              "    background-color: var(--disabled-bg-color);\n",
              "    fill: var(--disabled-fill-color);\n",
              "    box-shadow: none;\n",
              "  }\n",
              "\n",
              "  .colab-df-spinner {\n",
              "    border: 2px solid var(--fill-color);\n",
              "    border-color: transparent;\n",
              "    border-bottom-color: var(--fill-color);\n",
              "    animation:\n",
              "      spin 1s steps(1) infinite;\n",
              "  }\n",
              "\n",
              "  @keyframes spin {\n",
              "    0% {\n",
              "      border-color: transparent;\n",
              "      border-bottom-color: var(--fill-color);\n",
              "      border-left-color: var(--fill-color);\n",
              "    }\n",
              "    20% {\n",
              "      border-color: transparent;\n",
              "      border-left-color: var(--fill-color);\n",
              "      border-top-color: var(--fill-color);\n",
              "    }\n",
              "    30% {\n",
              "      border-color: transparent;\n",
              "      border-left-color: var(--fill-color);\n",
              "      border-top-color: var(--fill-color);\n",
              "      border-right-color: var(--fill-color);\n",
              "    }\n",
              "    40% {\n",
              "      border-color: transparent;\n",
              "      border-right-color: var(--fill-color);\n",
              "      border-top-color: var(--fill-color);\n",
              "    }\n",
              "    60% {\n",
              "      border-color: transparent;\n",
              "      border-right-color: var(--fill-color);\n",
              "    }\n",
              "    80% {\n",
              "      border-color: transparent;\n",
              "      border-right-color: var(--fill-color);\n",
              "      border-bottom-color: var(--fill-color);\n",
              "    }\n",
              "    90% {\n",
              "      border-color: transparent;\n",
              "      border-bottom-color: var(--fill-color);\n",
              "    }\n",
              "  }\n",
              "</style>\n",
              "\n",
              "  <script>\n",
              "    async function quickchart(key) {\n",
              "      const quickchartButtonEl =\n",
              "        document.querySelector('#' + key + ' button');\n",
              "      quickchartButtonEl.disabled = true;  // To prevent multiple clicks.\n",
              "      quickchartButtonEl.classList.add('colab-df-spinner');\n",
              "      try {\n",
              "        const charts = await google.colab.kernel.invokeFunction(\n",
              "            'suggestCharts', [key], {});\n",
              "      } catch (error) {\n",
              "        console.error('Error during call to suggestCharts:', error);\n",
              "      }\n",
              "      quickchartButtonEl.classList.remove('colab-df-spinner');\n",
              "      quickchartButtonEl.classList.add('colab-df-quickchart-complete');\n",
              "    }\n",
              "    (() => {\n",
              "      let quickchartButtonEl =\n",
              "        document.querySelector('#df-90ddd4ba-26cc-4495-8cd0-a3d4a9346d3c button');\n",
              "      quickchartButtonEl.style.display =\n",
              "        google.colab.kernel.accessAllowed ? 'block' : 'none';\n",
              "    })();\n",
              "  </script>\n",
              "</div>\n",
              "\n",
              "    </div>\n",
              "  </div>\n"
            ],
            "application/vnd.google.colaboratory.intrinsic+json": {
              "type": "dataframe",
              "summary": "{\n  \"name\": \"df\",\n  \"rows\": 8,\n  \"fields\": [\n    {\n      \"column\": \"id_local\",\n      \"properties\": {\n        \"dtype\": \"number\",\n        \"std\": 230.1591707034328,\n        \"min\": 1.0,\n        \"max\": 675.0,\n        \"num_unique_values\": 8,\n        \"samples\": [\n          340.8602329450915,\n          341.0,\n          601.0\n        ],\n        \"semantic_type\": \"\",\n        \"description\": \"\"\n      }\n    },\n    {\n      \"column\": \"code_com\",\n      \"properties\": {\n        \"dtype\": \"number\",\n        \"std\": 20289.068853847293,\n        \"min\": 38.7112960593632,\n        \"max\": 44210.0,\n        \"num_unique_values\": 7,\n        \"samples\": [\n          601.0,\n          44164.159733777036,\n          44184.0\n        ],\n        \"semantic_type\": \"\",\n        \"description\": \"\"\n      }\n    },\n    {\n      \"column\": \"capacite\",\n      \"properties\": {\n        \"dtype\": \"number\",\n        \"std\": 208.94295259703733,\n        \"min\": 0.0,\n        \"max\": 601.0,\n        \"num_unique_values\": 8,\n        \"samples\": [\n          7.628951747088187,\n          6.0,\n          601.0\n        ],\n        \"semantic_type\": \"\",\n        \"description\": \"\"\n      }\n    },\n    {\n      \"column\": \"capacite_cargo\",\n      \"properties\": {\n        \"dtype\": \"number\",\n        \"std\": 0.3779644730092273,\n        \"min\": 1.0,\n        \"max\": 2.0,\n        \"num_unique_values\": 2,\n        \"samples\": [\n          2.0,\n          1.0\n        ],\n        \"semantic_type\": \"\",\n        \"description\": \"\"\n      }\n    },\n    {\n      \"column\": \"d_service\",\n      \"properties\": {\n        \"dtype\": \"number\",\n        \"std\": 933.5844570886848,\n        \"min\": 1.0787197799411874,\n        \"max\": 2024.0,\n        \"num_unique_values\": 7,\n        \"samples\": [\n          11.0,\n          2022.8181818181818\n        ],\n        \"semantic_type\": \"\",\n        \"description\": \"\"\n      }\n    }\n  ]\n}"
            }
          },
          "metadata": {},
          "execution_count": 10
        }
      ]
    },
    {
      "cell_type": "markdown",
      "source": [
        "interpretation of descriptive"
      ],
      "metadata": {
        "id": "zTQPr57-IX9G"
      }
    },
    {
      "cell_type": "markdown",
      "source": [
        "1. id_local (Local ID)\n",
        "Count: 601 — This indicates that there are 601 unique parking locations in the dataset.\n",
        "Mean: 340.86 — On average, the IDs of the parking locations are around 340, but since this is just an identifier, it doesn't carry significant meaning.\n",
        "Standard Deviation (std): 194.83 — This shows how spread out the IDs are from the mean. The higher the value, the more spread the data points are from the average.\n",
        "Min: 1 — The smallest ID is 1.\n",
        "25% (1st Quartile): 173 — 25% of the parking locations have IDs less than 173.\n",
        "50% (Median/2nd Quartile): 341 — Half of the parking locations have an ID less than or equal to 341.\n",
        "75% (3rd Quartile): 508 — 75% of the parking locations have IDs less than 508.\n",
        "Max: 675 — The largest ID is 675.\n",
        "2. code_com (Municipality Code)\n",
        "Count: 601 — There are 601 municipality codes, corresponding to 601 parking locations.\n",
        "Mean: 44164.16 — The average code is 44164, but like id_local, it’s an identifier for municipalities.\n",
        "Standard Deviation (std): 38.71 — This tells us how much variation there is in the municipality codes, but the number doesn’t have much interpretive value beyond showing some spread in the codes.\n",
        "Min: 44013 — The smallest municipality code is 44013.\n",
        "25% (1st Quartile): 44132 — 25% of the parking locations have codes less than 44132.\n",
        "50% (Median/2nd Quartile): 44184 — Half of the locations have codes less than or equal to 44184.\n",
        "75% (3rd Quartile): 44184 — 75% of the locations have codes less than 44184.\n",
        "Max: 44210 — The largest municipality code is 44210.\n",
        "3. capacite (Capacity of Parking)\n",
        "Count: 601 — All 601 parking locations have data on capacity.\n",
        "Mean: 7.63 — On average, each parking location can hold around 7.6 bicycles.\n",
        "Standard Deviation (std): 5.39 — The capacity varies by about 5.39 bicycles from the mean across parking locations.\n",
        "Min: 0 — There are locations with 0 capacity, meaning no bicycles can be parked there.\n",
        "25% (1st Quartile): 4 — 25% of the locations can hold 4 or fewer bicycles.\n",
        "50% (Median/2nd Quartile): 6 — Half of the parking locations can hold 6 or fewer bicycles.\n",
        "75% (3rd Quartile): 10 — 75% of the parking locations can hold 10 or fewer bicycles.\n",
        "Max: 48 — The largest parking capacity is 48 bicycles, indicating this is a large facility.\n",
        "4. capacite_cargo (Capacity for Cargo Bikes)\n",
        "Count: 1 — Only 1 parking location in the dataset has a value for capacite_cargo, meaning almost all locations do not have capacity specifically for cargo bikes.\n",
        "Mean: 2 — The one location that has capacity for cargo bikes can hold 2 cargo bikes.\n",
        "Standard Deviation (std): NaN — There is no standard deviation because only 1 data point exists.\n",
        "Min, 25%, 50%, 75%, Max: 2 — Since there is only one data point, all these values are the same, showing the location has a capacity of 2 cargo bikes.\n",
        "5. d_service (Year of Service)\n",
        "Count: 11 — Only 11 entries have the year of service data.\n",
        "Mean: 2022.82 — On average, the year of service is around 2022.\n",
        "Standard Deviation (std): 1.08 — There is some spread in the years of service, varying by around 1 year from the mean.\n",
        "Min: 2021 — The earliest year of service recorded is 2021.\n",
        "25% (1st Quartile): 2022 — 25% of the locations have a year of service of 2022 or earlier.\n",
        "50% (Median/2nd Quartile): 2023 — Half of the parking locations with service data were serviced in or before 2023.\n",
        "75% (3rd Quartile): 2024 — 75% of the parking locations with service data were serviced by 2024.\n",
        "Max: 2024 — The most recent year of service is 2024.\n",
        "Overall Insights:\n",
        "Capacity: The majority of parking locations have a capacity of 4-10 bikes, with an average of 7.6 bikes per location.\n",
        "Cargo Capacity: Cargo bike capacity is rare, with only 1 location having capacity for cargo bikes.\n",
        "Service Year: The majority of parking locations with available data have been updated or serviced in recent years (2022-2024)."
      ],
      "metadata": {
        "id": "7MjcCdxXIdvD"
      }
    },
    {
      "cell_type": "code",
      "source": [
        "# Frequency distribution of a categorical column\n",
        "df['type_accroche'].value_counts()\n",
        "df['mobilier'].value_counts()\n"
      ],
      "metadata": {
        "colab": {
          "base_uri": "https://localhost:8080/",
          "height": 178
        },
        "id": "wVuIXB7aIdHC",
        "outputId": "166d4841-a3c6-4c17-c967-5ac04b24536c"
      },
      "execution_count": 11,
      "outputs": [
        {
          "output_type": "execute_result",
          "data": {
            "text/plain": [
              "mobilier\n",
              "ARCEAU      585\n",
              "RATELIER     16\n",
              "Name: count, dtype: int64"
            ],
            "text/html": [
              "<div>\n",
              "<style scoped>\n",
              "    .dataframe tbody tr th:only-of-type {\n",
              "        vertical-align: middle;\n",
              "    }\n",
              "\n",
              "    .dataframe tbody tr th {\n",
              "        vertical-align: top;\n",
              "    }\n",
              "\n",
              "    .dataframe thead th {\n",
              "        text-align: right;\n",
              "    }\n",
              "</style>\n",
              "<table border=\"1\" class=\"dataframe\">\n",
              "  <thead>\n",
              "    <tr style=\"text-align: right;\">\n",
              "      <th></th>\n",
              "      <th>count</th>\n",
              "    </tr>\n",
              "    <tr>\n",
              "      <th>mobilier</th>\n",
              "      <th></th>\n",
              "    </tr>\n",
              "  </thead>\n",
              "  <tbody>\n",
              "    <tr>\n",
              "      <th>ARCEAU</th>\n",
              "      <td>585</td>\n",
              "    </tr>\n",
              "    <tr>\n",
              "      <th>RATELIER</th>\n",
              "      <td>16</td>\n",
              "    </tr>\n",
              "  </tbody>\n",
              "</table>\n",
              "</div><br><label><b>dtype:</b> int64</label>"
            ]
          },
          "metadata": {},
          "execution_count": 11
        }
      ]
    },
    {
      "cell_type": "markdown",
      "source": [
        "Interpretation:"
      ],
      "metadata": {
        "id": "qc6cTyGHJaES"
      }
    },
    {
      "cell_type": "markdown",
      "source": [
        "ARCEAU: There are 585 bicycle parking locations equipped with an \"ARCEAU,\" which is a hoop or loop-type rack where bicycles can be secured.\n",
        "RATELIER: There are 16 bicycle parking locations equipped with a \"RATELIER,\" which is a bike rack typically used to hold multiple bikes by their wheels.\n",
        "Insights:\n",
        "The overwhelming majority (97.3%) of the parking facilities use ARCEAU as the main type of furniture, indicating that this type of rack is the preferred or most commonly installed infrastructure for bicycle parking.\n",
        "Only 16 locations (2.7%) use the RATELIER type, which is much less common.\n",
        "This suggests that the infrastructure is predominantly designed around the ARCEAU-type racks,"
      ],
      "metadata": {
        "id": "upMTG9OlJdEI"
      }
    },
    {
      "cell_type": "code",
      "source": [
        "\n",
        "# Bar plot for categorical variables\n",
        "df['type_accroche'].value_counts().plot(kind='bar', title='Distribution of Type Accroche')\n",
        "plt.show()\n",
        "\n",
        "# Histogram for numerical variables like capacity\n",
        "df['capacite'].plot(kind='hist', bins=10, title='Distribution of Capacite')\n",
        "plt.show()\n"
      ],
      "metadata": {
        "colab": {
          "base_uri": "https://localhost:8080/",
          "height": 1007
        },
        "id": "-CZcubQeJk_i",
        "outputId": "30db28c2-dd90-48af-941c-1bbf821d506f"
      },
      "execution_count": 15,
      "outputs": [
        {
          "output_type": "display_data",
          "data": {
            "text/plain": [
              "<Figure size 640x480 with 1 Axes>"
            ],
            "image/png": "[encoded data removed]"
          },
          "metadata": {}
        },
        {
          "output_type": "display_data",
          "data": {
            "text/plain": [
              "<Figure size 640x480 with 1 Axes>"
            ],
            "image/png": "[encoded data removed]"
          },
          "metadata": {}
        }
      ]
    },
    {
      "cell_type": "code",
      "source": [
        "import matplotlib.pyplot as plt\n",
        "\n",
        "# Create a figure and two subplots\n",
        "fig, axes = plt.subplots(1, 2, figsize=(12, 5))  # 1 row, 2 columns\n",
        "\n",
        "# Bar plot for 'type_accroche'\n",
        "df['type_accroche'].value_counts().plot(kind='bar', ax=axes[0], title='Distribution of Type Accroche')\n",
        "axes[0].set_title('Distribution of Type Accroche')  # Set the title for the first subplot\n",
        "axes[0].set_xlabel('Type Accroche')  # Label x-axis\n",
        "axes[0].set_ylabel('Count')  # Label y-axis\n",
        "\n",
        "# Histogram for 'capacite'\n",
        "df['capacite'].plot(kind='hist', bins=10, ax=axes[1], title='Distribution of Capacite')\n",
        "axes[1].set_title('Distribution of Capacite')  # Set the title for the second subplot\n",
        "axes[1].set_xlabel('Capacity')  # Label x-axis\n",
        "axes[1].set_ylabel('Frequency')  # Label y-axis\n",
        "\n",
        "# Adjust layout\n",
        "plt.tight_layout()  # Automatically adjust spacing between plots\n",
        "\n",
        "# Display the plots\n",
        "plt.show()\n"
      ],
      "metadata": {
        "colab": {
          "base_uri": "https://localhost:8080/",
          "height": 507
        },
        "id": "Is5nsFgxKY_l",
        "outputId": "f644b90c-4f75-4235-b570-26c4d1fd14ee"
      },
      "execution_count": 13,
      "outputs": [
        {
          "output_type": "display_data",
          "data": {
            "text/plain": [
              "<Figure size 1200x500 with 2 Axes>"
            ],
            "image/png": "[encoded data removed]"
          },
          "metadata": {}
        }
      ]
    },
    {
      "cell_type": "markdown",
      "source": [
        "### Handling Missing Data"
      ],
      "metadata": {
        "id": "dH1R6pQTLS3o"
      }
    },
    {
      "cell_type": "code",
      "source": [
        "# Fill missing values with the median for numerical columns\n",
        "df['capacite'].fillna(df['capacite'].median(), inplace=True)\n",
        "\n",
        "# Fill missing categorical data with the most frequent value\n",
        "df['type_accroche'].fillna(df['type_accroche'].mode()[0], inplace=True)\n"
      ],
      "metadata": {
        "colab": {
          "base_uri": "https://localhost:8080/",
          "height": 0
        },
        "id": "1uNiZbSYLVAn",
        "outputId": "89ee0f84-b4c0-47c7-d847-7ff8d2755c85"
      },
      "execution_count": 16,
      "outputs": [
        {
          "output_type": "stream",
          "name": "stderr",
          "text": [
            "<ipython-input-16-2ce0b47b09b0>:5: FutureWarning: A value is trying to be set on a copy of a DataFrame or Series through chained assignment using an inplace method.\n",
            "The behavior will change in pandas 3.0. This inplace method will never work because the intermediate object on which we are setting values always behaves as a copy.\n",
            "\n",
            "For example, when doing 'df[col].method(value, inplace=True)', try using 'df.method({col: value}, inplace=True)' or df[col] = df[col].method(value) instead, to perform the operation inplace on the original object.\n",
            "\n",
            "\n",
            "  df['type_accroche'].fillna(df['type_accroche'].mode()[0], inplace=True)\n"
          ]
        }
      ]
    },
    {
      "cell_type": "code",
      "source": [
        "# Drop rows with missing values\n",
        "df.dropna(inplace=True)\n"
      ],
      "metadata": {
        "id": "zgA4xOIMLocT"
      },
      "execution_count": 17,
      "outputs": []
    },
    {
      "cell_type": "markdown",
      "source": [
        "###Detecting Outliers"
      ],
      "metadata": {
        "id": "c9Ih9NeWLvK4"
      }
    },
    {
      "cell_type": "code",
      "source": [
        "# Boxplot to detect outliers in capacity\n",
        "df.boxplot(column='capacite')\n",
        "plt.title('Boxplot for Capacite')\n",
        "plt.show()\n"
      ],
      "metadata": {
        "colab": {
          "base_uri": "https://localhost:8080/",
          "height": 452
        },
        "id": "vfEKWTwDL2mO",
        "outputId": "e779ab33-30f3-42be-d342-4ef23f362796"
      },
      "execution_count": 18,
      "outputs": [
        {
          "output_type": "display_data",
          "data": {
            "text/plain": [
              "<Figure size 640x480 with 1 Axes>"
            ],
            "image/png": "[encoded data removed]"
          },
          "metadata": {}
        }
      ]
    },
    {
      "cell_type": "code",
      "source": [
        "# Check the unique values in the 'capacite' column\n",
        "df['capacite'].unique()\n"
      ],
      "metadata": {
        "colab": {
          "base_uri": "https://localhost:8080/",
          "height": 0
        },
        "id": "1PAIq_kaMZud",
        "outputId": "6e8f29bd-5333-4a2d-d3db-72c5e30ea625"
      },
      "execution_count": 19,
      "outputs": [
        {
          "output_type": "execute_result",
          "data": {
            "text/plain": [
              "array([], dtype=int64)"
            ]
          },
          "metadata": {},
          "execution_count": 19
        }
      ]
    },
    {
      "cell_type": "markdown",
      "source": [
        "The output array([], dtype=int64) suggests that the capacite column contains no unique values, which likely means one of the following:\n",
        "\n",
        "The capacite column is completely empty (all values might be NaN or missing).\n",
        "The capacite column contains no valid integers (possibly it was misread as a different data type or has non-numeric data)."
      ],
      "metadata": {
        "id": "PsfsgDSjMxDg"
      }
    },
    {
      "cell_type": "code",
      "source": [
        "# Check for missing values in 'capacite'\n",
        "df['capacite'].isnull().sum()\n"
      ],
      "metadata": {
        "colab": {
          "base_uri": "https://localhost:8080/",
          "height": 0
        },
        "id": "ONX3rYebMyJg",
        "outputId": "80e80c13-2aec-4a8a-a862-ad9fd695d404"
      },
      "execution_count": 20,
      "outputs": [
        {
          "output_type": "execute_result",
          "data": {
            "text/plain": [
              "0"
            ]
          },
          "metadata": {},
          "execution_count": 20
        }
      ]
    },
    {
      "cell_type": "code",
      "source": [
        "# Check the data type of 'capacite'\n",
        "print(df['capacite'].dtype)\n"
      ],
      "metadata": {
        "colab": {
          "base_uri": "https://localhost:8080/",
          "height": 0
        },
        "id": "QbGerHoGNDJ5",
        "outputId": "d1471d29-3a24-41b7-d8ad-031da443844f"
      },
      "execution_count": 21,
      "outputs": [
        {
          "output_type": "stream",
          "name": "stdout",
          "text": [
            "int64\n"
          ]
        }
      ]
    },
    {
      "cell_type": "code",
      "source": [
        "# Check for any non-numeric values\n",
        "non_numeric_values = df[~df['capacite'].apply(lambda x: str(x).isdigit())]\n",
        "print(non_numeric_values)\n"
      ],
      "metadata": {
        "colab": {
          "base_uri": "https://localhost:8080/",
          "height": 0
        },
        "id": "gotY2okGNNVy",
        "outputId": "b5d77b58-7ba1-4ed5-f853-af17a16783f1"
      },
      "execution_count": 22,
      "outputs": [
        {
          "output_type": "stream",
          "name": "stdout",
          "text": [
            "Empty DataFrame\n",
            "Columns: []\n",
            "Index: []\n"
          ]
        }
      ]
    },
    {
      "cell_type": "code",
      "source": [
        "# Calculate IQR and detect outliers\n",
        "Q1 = df['capacite'].quantile(0.25)\n",
        "Q3 = df['capacite'].quantile(0.75)\n",
        "IQR = Q3 - Q1\n",
        "outliers = df[(df['capacite'] < (Q1 - 1.5 * IQR)) | (df['capacite'] > (Q3 + 1.5 * IQR))]\n",
        "print(\"Outliers in Capacite:\", outliers)\n"
      ],
      "metadata": {
        "colab": {
          "base_uri": "https://localhost:8080/",
          "height": 0
        },
        "id": "e3xxIoCbNgK4",
        "outputId": "2bbcc16e-3fa8-4d9a-d9ea-b7bdbc2cf14d"
      },
      "execution_count": 23,
      "outputs": [
        {
          "output_type": "stream",
          "name": "stdout",
          "text": [
            "Outliers in Capacite: Empty DataFrame\n",
            "Columns: [geo_point_2d, Geo Shape, id_local, id_osm, code_com, coordonneesxy, capacite, capacite_cargo, type_accroche, mobilier, acces, gratuit, protection, couverture, surveillance, lumiere, url_info, d_service, source, proprietaire, gestionnaire, date_maj, commentaires]\n",
            "Index: []\n",
            "\n",
            "[0 rows x 23 columns]\n"
          ]
        }
      ]
    },
    {
      "cell_type": "code",
      "source": [
        "skewness = df['capacite'].skew()\n",
        "kurtosis = df['capacite'].kurtosis()\n",
        "print(f'Skewness: {skewness}, Kurtosis: {kurtosis}')\n"
      ],
      "metadata": {
        "colab": {
          "base_uri": "https://localhost:8080/",
          "height": 0
        },
        "id": "v5IeQePHO_t_",
        "outputId": "c13fb23e-bb13-43d3-8eaa-2ff912cc760b"
      },
      "execution_count": 27,
      "outputs": [
        {
          "output_type": "stream",
          "name": "stdout",
          "text": [
            "Skewness: nan, Kurtosis: nan\n"
          ]
        }
      ]
    },
    {
      "cell_type": "markdown",
      "source": [
        "###2. Geospatial Analysis"
      ],
      "metadata": {
        "id": "Hc6aa_s-QbcS"
      }
    },
    {
      "cell_type": "code",
      "source": [
        "import pandas as pd\n",
        "import geopandas as gpd\n",
        "import folium\n",
        "from shapely.geometry import Point\n",
        "import matplotlib.pyplot as plt\n"
      ],
      "metadata": {
        "id": "-Oq9EiGRQ2YA"
      },
      "execution_count": 28,
      "outputs": []
    },
    {
      "cell_type": "markdown",
      "source": [
        "Understand the Geographical Data\n",
        "geo_point_2d: Likely contains the latitude and longitude in a comma-separated format.\n",
        "Geo Shape: Likely contains more detailed geographic information (such as polygons for areas).\n",
        "coordonneesxy: Could also contain XY coordinates in some format."
      ],
      "metadata": {
        "id": "m9p8J0yrRZv4"
      }
    },
    {
      "cell_type": "code",
      "source": [
        "df.geo_point_2d"
      ],
      "metadata": {
        "colab": {
          "base_uri": "https://localhost:8080/",
          "height": 84
        },
        "id": "oVKQaIFXReXk",
        "outputId": "1572d979-3335-4445-bfc3-ef9f82e5555d"
      },
      "execution_count": 29,
      "outputs": [
        {
          "output_type": "execute_result",
          "data": {
            "text/plain": [
              "Series([], Name: geo_point_2d, dtype: object)"
            ],
            "text/html": [
              "<div>\n",
              "<style scoped>\n",
              "    .dataframe tbody tr th:only-of-type {\n",
              "        vertical-align: middle;\n",
              "    }\n",
              "\n",
              "    .dataframe tbody tr th {\n",
              "        vertical-align: top;\n",
              "    }\n",
              "\n",
              "    .dataframe thead th {\n",
              "        text-align: right;\n",
              "    }\n",
              "</style>\n",
              "<table border=\"1\" class=\"dataframe\">\n",
              "  <thead>\n",
              "    <tr style=\"text-align: right;\">\n",
              "      <th></th>\n",
              "      <th>geo_point_2d</th>\n",
              "    </tr>\n",
              "  </thead>\n",
              "  <tbody>\n",
              "  </tbody>\n",
              "</table>\n",
              "</div><br><label><b>dtype:</b> object</label>"
            ]
          },
          "metadata": {},
          "execution_count": 29
        }
      ]
    },
    {
      "cell_type": "code",
      "source": [
        "# Filter out rows where 'geo_point_2d' doesn't contain a valid latitude and longitude pair\n",
        "df = df[df['geo_point_2d'].str.contains(',')]\n",
        "df"
      ],
      "metadata": {
        "colab": {
          "base_uri": "https://localhost:8080/",
          "height": 116
        },
        "id": "LK9_czzDVDu2",
        "outputId": "408a7f84-ca50-4a7c-b941-7b2379136764"
      },
      "execution_count": 32,
      "outputs": [
        {
          "output_type": "execute_result",
          "data": {
            "text/plain": [
              "Empty DataFrame\n",
              "Columns: [geo_point_2d, Geo Shape, id_local, id_osm, code_com, coordonneesxy, capacite, capacite_cargo, type_accroche, mobilier, acces, gratuit, protection, couverture, surveillance, lumiere, url_info, d_service, source, proprietaire, gestionnaire, date_maj, commentaires]\n",
              "Index: []\n",
              "\n",
              "[0 rows x 23 columns]"
            ],
            "text/html": [
              "\n",
              "  <div id=\"df-9f2a7103-a05a-4d22-bdca-0e928eb0d65e\" class=\"colab-df-container\">\n",
              "    <div>\n",
              "<style scoped>\n",
              "    .dataframe tbody tr th:only-of-type {\n",
              "        vertical-align: middle;\n",
              "    }\n",
              "\n",
              "    .dataframe tbody tr th {\n",
              "        vertical-align: top;\n",
              "    }\n",
              "\n",
              "    .dataframe thead th {\n",
              "        text-align: right;\n",
              "    }\n",
              "</style>\n",
              "<table border=\"1\" class=\"dataframe\">\n",
              "  <thead>\n",
              "    <tr style=\"text-align: right;\">\n",
              "      <th></th>\n",
              "      <th>geo_point_2d</th>\n",
              "      <th>Geo Shape</th>\n",
              "      <th>id_local</th>\n",
              "      <th>id_osm</th>\n",
              "      <th>code_com</th>\n",
              "      <th>coordonneesxy</th>\n",
              "      <th>capacite</th>\n",
              "      <th>capacite_cargo</th>\n",
              "      <th>type_accroche</th>\n",
              "      <th>mobilier</th>\n",
              "      <th>...</th>\n",
              "      <th>couverture</th>\n",
              "      <th>surveillance</th>\n",
              "      <th>lumiere</th>\n",
              "      <th>url_info</th>\n",
              "      <th>d_service</th>\n",
              "      <th>source</th>\n",
              "      <th>proprietaire</th>\n",
              "      <th>gestionnaire</th>\n",
              "      <th>date_maj</th>\n",
              "      <th>commentaires</th>\n",
              "    </tr>\n",
              "  </thead>\n",
              "  <tbody>\n",
              "  </tbody>\n",
              "</table>\n",
              "<p>0 rows × 23 columns</p>\n",
              "</div>\n",
              "    <div class=\"colab-df-buttons\">\n",
              "\n",
              "  <div class=\"colab-df-container\">\n",
              "    <button class=\"colab-df-convert\" onclick=\"convertToInteractive('df-9f2a7103-a05a-4d22-bdca-0e928eb0d65e')\"\n",
              "            title=\"Convert this dataframe to an interactive table.\"\n",
              "            style=\"display:none;\">\n",
              "\n",
              "  <svg xmlns=\"http://www.w3.org/2000/svg\" height=\"24px\" viewBox=\"0 -960 960 960\">\n",
              "    <path d=\"M120-120v-720h720v720H120Zm60-500h600v-160H180v160Zm220 220h160v-160H400v160Zm0 220h160v-160H400v160ZM180-400h160v-160H180v160Zm440 0h160v-160H620v160ZM180-180h160v-160H180v160Zm440 0h160v-160H620v160Z\"/>\n",
              "  </svg>\n",
              "    </button>\n",
              "\n",
              "  <style>\n",
              "    .colab-df-container {\n",
              "      display:flex;\n",
              "      gap: 12px;\n",
              "    }\n",
              "\n",
              "    .colab-df-convert {\n",
              "      background-color: #E8F0FE;\n",
              "      border: none;\n",
              "      border-radius: 50%;\n",
              "      cursor: pointer;\n",
              "      display: none;\n",
              "      fill: #1967D2;\n",
              "      height: 32px;\n",
              "      padding: 0 0 0 0;\n",
              "      width: 32px;\n",
              "    }\n",
              "\n",
              "    .colab-df-convert:hover {\n",
              "      background-color: #E2EBFA;\n",
              "      box-shadow: 0px 1px 2px rgba(60, 64, 67, 0.3), 0px 1px 3px 1px rgba(60, 64, 67, 0.15);\n",
              "      fill: #174EA6;\n",
              "    }\n",
              "\n",
              "    .colab-df-buttons div {\n",
              "      margin-bottom: 4px;\n",
              "    }\n",
              "\n",
              "    [theme=dark] .colab-df-convert {\n",
              "      background-color: #3B4455;\n",
              "      fill: #D2E3FC;\n",
              "    }\n",
              "\n",
              "    [theme=dark] .colab-df-convert:hover {\n",
              "      background-color: #434B5C;\n",
              "      box-shadow: 0px 1px 3px 1px rgba(0, 0, 0, 0.15);\n",
              "      filter: drop-shadow(0px 1px 2px rgba(0, 0, 0, 0.3));\n",
              "      fill: #FFFFFF;\n",
              "    }\n",
              "  </style>\n",
              "\n",
              "    <script>\n",
              "      const buttonEl =\n",
              "        document.querySelector('#df-9f2a7103-a05a-4d22-bdca-0e928eb0d65e button.colab-df-convert');\n",
              "      buttonEl.style.display =\n",
              "        google.colab.kernel.accessAllowed ? 'block' : 'none';\n",
              "\n",
              "      async function convertToInteractive(key) {\n",
              "        const element = document.querySelector('#df-9f2a7103-a05a-4d22-bdca-0e928eb0d65e');\n",
              "        const dataTable =\n",
              "          await google.colab.kernel.invokeFunction('convertToInteractive',\n",
              "                                                    [key], {});\n",
              "        if (!dataTable) return;\n",
              "\n",
              "        const docLinkHtml = 'Like what you see? Visit the ' +\n",
              "          '<a target=\"_blank\" href=https://colab.research.google.com/notebooks/data_table.ipynb>data table notebook</a>'\n",
              "          + ' to learn more about interactive tables.';\n",
              "        element.innerHTML = '';\n",
              "        dataTable['output_type'] = 'display_data';\n",
              "        await google.colab.output.renderOutput(dataTable, element);\n",
              "        const docLink = document.createElement('div');\n",
              "        docLink.innerHTML = docLinkHtml;\n",
              "        element.appendChild(docLink);\n",
              "      }\n",
              "    </script>\n",
              "  </div>\n",
              "\n",
              "\n",
              "  <div id=\"id_b137c5c2-9554-41d8-9b01-9ce533eaac31\">\n",
              "    <style>\n",
              "      .colab-df-generate {\n",
              "        background-color: #E8F0FE;\n",
              "        border: none;\n",
              "        border-radius: 50%;\n",
              "        cursor: pointer;\n",
              "        display: none;\n",
              "        fill: #1967D2;\n",
              "        height: 32px;\n",
              "        padding: 0 0 0 0;\n",
              "        width: 32px;\n",
              "      }\n",
              "\n",
              "      .colab-df-generate:hover {\n",
              "        background-color: #E2EBFA;\n",
              "        box-shadow: 0px 1px 2px rgba(60, 64, 67, 0.3), 0px 1px 3px 1px rgba(60, 64, 67, 0.15);\n",
              "        fill: #174EA6;\n",
              "      }\n",
              "\n",
              "      [theme=dark] .colab-df-generate {\n",
              "        background-color: #3B4455;\n",
              "        fill: #D2E3FC;\n",
              "      }\n",
              "\n",
              "      [theme=dark] .colab-df-generate:hover {\n",
              "        background-color: #434B5C;\n",
              "        box-shadow: 0px 1px 3px 1px rgba(0, 0, 0, 0.15);\n",
              "        filter: drop-shadow(0px 1px 2px rgba(0, 0, 0, 0.3));\n",
              "        fill: #FFFFFF;\n",
              "      }\n",
              "    </style>\n",
              "    <button class=\"colab-df-generate\" onclick=\"generateWithVariable('df')\"\n",
              "            title=\"Generate code using this dataframe.\"\n",
              "            style=\"display:none;\">\n",
              "\n",
              "  <svg xmlns=\"http://www.w3.org/2000/svg\" height=\"24px\"viewBox=\"0 0 24 24\"\n",
              "       width=\"24px\">\n",
              "    <path d=\"M7,19H8.4L18.45,9,17,7.55,7,17.6ZM5,21V16.75L18.45,3.32a2,2,0,0,1,2.83,0l1.4,1.43a1.91,1.91,0,0,1,.58,1.4,1.91,1.91,0,0,1-.58,1.4L9.25,21ZM18.45,9,17,7.55Zm-12,3A5.31,5.31,0,0,0,4.9,8.1,5.31,5.31,0,0,0,1,6.5,5.31,5.31,0,0,0,4.9,4.9,5.31,5.31,0,0,0,6.5,1,5.31,5.31,0,0,0,8.1,4.9,5.31,5.31,0,0,0,12,6.5,5.46,5.46,0,0,0,6.5,12Z\"/>\n",
              "  </svg>\n",
              "    </button>\n",
              "    <script>\n",
              "      (() => {\n",
              "      const buttonEl =\n",
              "        document.querySelector('#id_b137c5c2-9554-41d8-9b01-9ce533eaac31 button.colab-df-generate');\n",
              "      buttonEl.style.display =\n",
              "        google.colab.kernel.accessAllowed ? 'block' : 'none';\n",
              "\n",
              "      buttonEl.onclick = () => {\n",
              "        google.colab.notebook.generateWithVariable('df');\n",
              "      }\n",
              "      })();\n",
              "    </script>\n",
              "  </div>\n",
              "\n",
              "    </div>\n",
              "  </div>\n"
            ],
            "application/vnd.google.colaboratory.intrinsic+json": {
              "type": "dataframe",
              "variable_name": "df"
            }
          },
          "metadata": {},
          "execution_count": 32
        }
      ]
    },
    {
      "cell_type": "code",
      "source": [
        "# Check for rows with missing or malformed data in 'geo_point_2d'\n",
        "df['geo_point_2d'].apply(lambda x: len(x.split(',')) != 2).sum()\n"
      ],
      "metadata": {
        "colab": {
          "base_uri": "https://localhost:8080/",
          "height": 0
        },
        "id": "YYdgAIUCWM88",
        "outputId": "65c7e4a8-bfe6-4835-e2be-aecfa9da29f6"
      },
      "execution_count": 35,
      "outputs": [
        {
          "output_type": "execute_result",
          "data": {
            "text/plain": [
              "0"
            ]
          },
          "metadata": {},
          "execution_count": 35
        }
      ]
    },
    {
      "cell_type": "code",
      "source": [
        "df.geo_point_2d"
      ],
      "metadata": {
        "colab": {
          "base_uri": "https://localhost:8080/",
          "height": 84
        },
        "id": "W1oHEtroWelq",
        "outputId": "997132ab-60c3-477f-9293-9dc6d59ef266"
      },
      "execution_count": 37,
      "outputs": [
        {
          "output_type": "execute_result",
          "data": {
            "text/plain": [
              "Series([], Name: geo_point_2d, dtype: object)"
            ],
            "text/html": [
              "<div>\n",
              "<style scoped>\n",
              "    .dataframe tbody tr th:only-of-type {\n",
              "        vertical-align: middle;\n",
              "    }\n",
              "\n",
              "    .dataframe tbody tr th {\n",
              "        vertical-align: top;\n",
              "    }\n",
              "\n",
              "    .dataframe thead th {\n",
              "        text-align: right;\n",
              "    }\n",
              "</style>\n",
              "<table border=\"1\" class=\"dataframe\">\n",
              "  <thead>\n",
              "    <tr style=\"text-align: right;\">\n",
              "      <th></th>\n",
              "      <th>geo_point_2d</th>\n",
              "    </tr>\n",
              "  </thead>\n",
              "  <tbody>\n",
              "  </tbody>\n",
              "</table>\n",
              "</div><br><label><b>dtype:</b> object</label>"
            ]
          },
          "metadata": {},
          "execution_count": 37
        }
      ]
    },
    {
      "cell_type": "code",
      "source": [
        "link = (\"/content/244400644_stationnements_cyclables.csv\")\n",
        "df2 = pd.read_csv(link,sep=';')\n",
        "df.head()"
      ],
      "metadata": {
        "colab": {
          "base_uri": "https://localhost:8080/",
          "height": 116
        },
        "id": "V1JtfgSEZeSA",
        "outputId": "61601307-29d3-4999-d128-4309c3a3753d"
      },
      "execution_count": 42,
      "outputs": [
        {
          "output_type": "execute_result",
          "data": {
            "text/plain": [
              "Empty DataFrame\n",
              "Columns: [geo_point_2d, Geo Shape, id_local, id_osm, code_com, coordonneesxy, capacite, capacite_cargo, type_accroche, mobilier, acces, gratuit, protection, couverture, surveillance, lumiere, url_info, d_service, source, proprietaire, gestionnaire, date_maj, commentaires]\n",
              "Index: []\n",
              "\n",
              "[0 rows x 23 columns]"
            ],
            "text/html": [
              "\n",
              "  <div id=\"df-60826e76-c0b6-4875-8603-2fc3b163653f\" class=\"colab-df-container\">\n",
              "    <div>\n",
              "<style scoped>\n",
              "    .dataframe tbody tr th:only-of-type {\n",
              "        vertical-align: middle;\n",
              "    }\n",
              "\n",
              "    .dataframe tbody tr th {\n",
              "        vertical-align: top;\n",
              "    }\n",
              "\n",
              "    .dataframe thead th {\n",
              "        text-align: right;\n",
              "    }\n",
              "</style>\n",
              "<table border=\"1\" class=\"dataframe\">\n",
              "  <thead>\n",
              "    <tr style=\"text-align: right;\">\n",
              "      <th></th>\n",
              "      <th>geo_point_2d</th>\n",
              "      <th>Geo Shape</th>\n",
              "      <th>id_local</th>\n",
              "      <th>id_osm</th>\n",
              "      <th>code_com</th>\n",
              "      <th>coordonneesxy</th>\n",
              "      <th>capacite</th>\n",
              "      <th>capacite_cargo</th>\n",
              "      <th>type_accroche</th>\n",
              "      <th>mobilier</th>\n",
              "      <th>...</th>\n",
              "      <th>couverture</th>\n",
              "      <th>surveillance</th>\n",
              "      <th>lumiere</th>\n",
              "      <th>url_info</th>\n",
              "      <th>d_service</th>\n",
              "      <th>source</th>\n",
              "      <th>proprietaire</th>\n",
              "      <th>gestionnaire</th>\n",
              "      <th>date_maj</th>\n",
              "      <th>commentaires</th>\n",
              "    </tr>\n",
              "  </thead>\n",
              "  <tbody>\n",
              "  </tbody>\n",
              "</table>\n",
              "<p>0 rows × 23 columns</p>\n",
              "</div>\n",
              "    <div class=\"colab-df-buttons\">\n",
              "\n",
              "  <div class=\"colab-df-container\">\n",
              "    <button class=\"colab-df-convert\" onclick=\"convertToInteractive('df-60826e76-c0b6-4875-8603-2fc3b163653f')\"\n",
              "            title=\"Convert this dataframe to an interactive table.\"\n",
              "            style=\"display:none;\">\n",
              "\n",
              "  <svg xmlns=\"http://www.w3.org/2000/svg\" height=\"24px\" viewBox=\"0 -960 960 960\">\n",
              "    <path d=\"M120-120v-720h720v720H120Zm60-500h600v-160H180v160Zm220 220h160v-160H400v160Zm0 220h160v-160H400v160ZM180-400h160v-160H180v160Zm440 0h160v-160H620v160ZM180-180h160v-160H180v160Zm440 0h160v-160H620v160Z\"/>\n",
              "  </svg>\n",
              "    </button>\n",
              "\n",
              "  <style>\n",
              "    .colab-df-container {\n",
              "      display:flex;\n",
              "      gap: 12px;\n",
              "    }\n",
              "\n",
              "    .colab-df-convert {\n",
              "      background-color: #E8F0FE;\n",
              "      border: none;\n",
              "      border-radius: 50%;\n",
              "      cursor: pointer;\n",
              "      display: none;\n",
              "      fill: #1967D2;\n",
              "      height: 32px;\n",
              "      padding: 0 0 0 0;\n",
              "      width: 32px;\n",
              "    }\n",
              "\n",
              "    .colab-df-convert:hover {\n",
              "      background-color: #E2EBFA;\n",
              "      box-shadow: 0px 1px 2px rgba(60, 64, 67, 0.3), 0px 1px 3px 1px rgba(60, 64, 67, 0.15);\n",
              "      fill: #174EA6;\n",
              "    }\n",
              "\n",
              "    .colab-df-buttons div {\n",
              "      margin-bottom: 4px;\n",
              "    }\n",
              "\n",
              "    [theme=dark] .colab-df-convert {\n",
              "      background-color: #3B4455;\n",
              "      fill: #D2E3FC;\n",
              "    }\n",
              "\n",
              "    [theme=dark] .colab-df-convert:hover {\n",
              "      background-color: #434B5C;\n",
              "      box-shadow: 0px 1px 3px 1px rgba(0, 0, 0, 0.15);\n",
              "      filter: drop-shadow(0px 1px 2px rgba(0, 0, 0, 0.3));\n",
              "      fill: #FFFFFF;\n",
              "    }\n",
              "  </style>\n",
              "\n",
              "    <script>\n",
              "      const buttonEl =\n",
              "        document.querySelector('#df-60826e76-c0b6-4875-8603-2fc3b163653f button.colab-df-convert');\n",
              "      buttonEl.style.display =\n",
              "        google.colab.kernel.accessAllowed ? 'block' : 'none';\n",
              "\n",
              "      async function convertToInteractive(key) {\n",
              "        const element = document.querySelector('#df-60826e76-c0b6-4875-8603-2fc3b163653f');\n",
              "        const dataTable =\n",
              "          await google.colab.kernel.invokeFunction('convertToInteractive',\n",
              "                                                    [key], {});\n",
              "        if (!dataTable) return;\n",
              "\n",
              "        const docLinkHtml = 'Like what you see? Visit the ' +\n",
              "          '<a target=\"_blank\" href=https://colab.research.google.com/notebooks/data_table.ipynb>data table notebook</a>'\n",
              "          + ' to learn more about interactive tables.';\n",
              "        element.innerHTML = '';\n",
              "        dataTable['output_type'] = 'display_data';\n",
              "        await google.colab.output.renderOutput(dataTable, element);\n",
              "        const docLink = document.createElement('div');\n",
              "        docLink.innerHTML = docLinkHtml;\n",
              "        element.appendChild(docLink);\n",
              "      }\n",
              "    </script>\n",
              "  </div>\n",
              "\n",
              "\n",
              "    </div>\n",
              "  </div>\n"
            ],
            "application/vnd.google.colaboratory.intrinsic+json": {
              "type": "dataframe",
              "variable_name": "df"
            }
          },
          "metadata": {},
          "execution_count": 42
        }
      ]
    }
  ]
}